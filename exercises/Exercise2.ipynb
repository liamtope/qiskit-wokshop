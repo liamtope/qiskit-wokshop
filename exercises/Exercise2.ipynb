{
 "cells": [
  {
   "cell_type": "markdown",
   "metadata": {},
   "source": [
    "# Exercise 2"
   ]
  },
  {
   "cell_type": "code",
   "execution_count": null,
   "metadata": {},
   "outputs": [],
   "source": [
    "import numpy\n",
    "from IPython.display import Image\n",
    "from matplotlib import pyplot\n",
    "from qiskit import QuantumCircuit, ClassicalRegister, QuantumRegister\n",
    "from qiskit.tools.visualization import plot_bloch_multivector\n",
    "from qiskit.tools.visualization import plot_histogram\n",
    "from qiskit import execute\n",
    "from qiskit import BasicAer\n",
    "\n",
    "# Specify the simulator backend to be used for circuit simulation\n",
    "# We specify two different backends for generating two types of plots:\n",
    "\n",
    "# Histogram backend\n",
    "backend_hist = BasicAer.get_backend('qasm_simulator')\n",
    "\n",
    "# Bloch sphere backend\n",
    "backend_bloch = BasicAer.get_backend('statevector_simulator')\n",
    "\n",
    "# We include the Bloch sphere backend for visualisation purposes alongside its use for\n",
    "# finding the state vector of the circuit output"
   ]
  },
  {
   "cell_type": "markdown",
   "metadata": {},
   "source": [
    "*Run this cell to obtain latex ket command*\n",
    "$$\\newcommand{\\ket}[1]{\\lvert{#1}\\rangle}$$"
   ]
  },
  {
   "cell_type": "markdown",
   "metadata": {},
   "source": [
    "## Controlled-NOT gates & Quantum Entanglement\n",
    "\n",
    "We have previously investigated the behaviour of the Hadamard gate and how it can be used to produce a superposition state in a single qubit, we have also seen how the controlled-NOT gate can be used to assert a dependence between the measurements of two qubits. In the following exercises/examples we will investigate the behaviour of a multi-qubit circuit comprised of a Hadamard and C-NOT gate and how it can be used in conjunction with another simple gate to obtain each of the four maximally entangled states known as the Bell states. These states form the minimally spanning, orthonormal basis set of the four-dimensional Hilbert space of two qubits.\n",
    "\n",
    "Consider the system depicted in the circuit diagram below:"
   ]
  },
  {
   "cell_type": "code",
   "execution_count": null,
   "metadata": {},
   "outputs": [],
   "source": [
    "Image(\"../images/EntanglementCircuit.png\")"
   ]
  },
  {
   "cell_type": "markdown",
   "metadata": {},
   "source": [
    "$$\\newcommand{\\ket}[1]{\\lvert{#1}\\rangle}$$\n",
    "This system is expected to return the $\\ket{\\beta_{00}}$ Bell state, it is defined as:\n",
    "\n",
    "$$\n",
    "    \\ket{\\beta_{00}} = \\frac{\\ket{11} + \\ket{00}}{\\sqrt{2}} \n",
    "$$\n",
    "\n",
    "Implement this circuit and produce a histogram of the results using the qasm simulator. Now use the statevector simulator to obtain the output state vector for this system. Use your results to verify that you have obtained the correct Bell state."
   ]
  },
  {
   "cell_type": "code",
   "execution_count": null,
   "metadata": {
    "scrolled": true
   },
   "outputs": [],
   "source": [
    "# Create a two qubit register and a classical register to hold qubit measurements\n",
    "q = QuantumRegister(2, 'q') \n",
    "c = ClassicalRegister(2, 'c')\n",
    "\n",
    "# Initialise circuit\n",
    "circuit = QuantumCircuit(q, c)\n",
    "\n",
    "# Include gates here\n",
    "circuit.h(q[0])\n",
    "circuit.cx(q[0], q[1])\n",
    "\n",
    "# Collapse state into classical register to make measurement\n",
    "circuit.measure(q[0], c[0])\n",
    "circuit.measure(q[1], c[1])\n",
    "\n",
    "# Draw the circuit diagram\n",
    "circuit.draw(output=\"mpl\")"
   ]
  },
  {
   "cell_type": "code",
   "execution_count": null,
   "metadata": {},
   "outputs": [],
   "source": [
    "# Create a Quantum Program for execution \n",
    "job_hist = execute(circuit, backend_hist, shots=5000)\n",
    "job_bloch = execute(circuit, backend_bloch)\n",
    "\n",
    "# Obtain results\n",
    "result_hist = job_hist.result()\n",
    "result_bloch = job_bloch.result()"
   ]
  },
  {
   "cell_type": "code",
   "execution_count": null,
   "metadata": {},
   "outputs": [],
   "source": [
    "# Plot a histogram of the obtained measurements\n",
    "plot_histogram(result_hist.get_counts(circuit))"
   ]
  },
  {
   "cell_type": "code",
   "execution_count": null,
   "metadata": {},
   "outputs": [],
   "source": [
    "# Obtain and print the output state vector of the circuit\n",
    "outputstate_final = result_bloch.get_statevector(circuit, decimals=3)\n",
    "print(outputstate_final)"
   ]
  },
  {
   "cell_type": "markdown",
   "metadata": {},
   "source": [
    "### Obtaining other Bell states\n",
    "\n",
    "The other three possible Bell states are as follows:\n",
    "\n",
    "$$\n",
    "    \\ket{\\beta_{01}} = \\frac{\\ket{01} + \\ket{10}}{\\sqrt{2}} \\\\\n",
    "    \\ket{\\beta_{10}} = \\frac{\\ket{00} - \\ket{11}}{\\sqrt{2}} \\\\\n",
    "    \\ket{\\beta_{11}} = \\frac{\\ket{01} - \\ket{10}}{\\sqrt{2}} \\\\\n",
    "$$\n",
    "\n",
    "As mentioned before, these states form a basis for the Hilbert space of our system. The key point to note is that each state comprises of a superposition of two inverted states, that is to say that each possible outcome of a given Bell state is the exact opposite of the other possible outcome. This means that a measurement of the first qubit is enough information to determine the state of the second qubit without having to also perform a measurement on it. This is the premise of quantum entanglement, the measurement of one qubit uniquely determines the value of the other entangled qubit."
   ]
  },
  {
   "cell_type": "markdown",
   "metadata": {},
   "source": [
    "In this exercise you must use the code from exercise 1 with different input states in order to set up a quantum circuit to generate the $\\ket{\\beta_{11}}$ Bell state and verify your results in the same manner as in the previous exercise."
   ]
  },
  {
   "cell_type": "code",
   "execution_count": null,
   "metadata": {},
   "outputs": [],
   "source": [
    "# Create a two qubit quantum and classical register\n",
    "q = QuantumRegister(2, 'q') \n",
    "c = ClassicalRegister(2, 'c')\n",
    "\n",
    "# Initialise circuit\n",
    "circuit = QuantumCircuit(q, c)\n",
    "\n",
    "# Include gates here:\n",
    "circuit.x(q[0])\n",
    "circuit.x(q[1])\n",
    "circuit.h(q[0])\n",
    "circuit.cx(q[0], q[1])\n",
    "\n",
    "# Collapse state into classical register to make measurement\n",
    "circuit.measure(q[0], c[0])\n",
    "circuit.measure(q[1], c[1])\n",
    "\n",
    "# Draw circuit diagram\n",
    "circuit.draw(output=\"mpl\")"
   ]
  },
  {
   "cell_type": "code",
   "execution_count": null,
   "metadata": {},
   "outputs": [],
   "source": [
    "# Create a Quantum Program for execution \n",
    "job_hist = execute(circuit, backend_hist, shots=5000)\n",
    "job_bloch = execute(circuit, backend_bloch)\n",
    "\n",
    "# Obtain results\n",
    "result_hist = job_hist.result()\n",
    "result_bloch = job_bloch.result()"
   ]
  },
  {
   "cell_type": "code",
   "execution_count": null,
   "metadata": {},
   "outputs": [],
   "source": [
    "plot_histogram(result_hist.get_counts(circuit))"
   ]
  },
  {
   "cell_type": "code",
   "execution_count": null,
   "metadata": {},
   "outputs": [],
   "source": [
    "outputstate_final = result_bloch.get_statevector(circuit, decimals=3)\n",
    "print(outputstate_final)"
   ]
  },
  {
   "cell_type": "markdown",
   "metadata": {},
   "source": [
    "### Swapping states"
   ]
  },
  {
   "cell_type": "markdown",
   "metadata": {},
   "source": [
    "In the following exercise you are to utilise a combination of CNOT gates to swap the states of two qubits. \n",
    "Initialise the system in the state $\\ket{01}$ in order for the state swap to be more easily observed. \n",
    "\n",
    "Then initialise the system in state $\\ket{11}$ and make sure the state is preserved. \n",
    "\n",
    "Run your system using 5000 shots on the qasm simulator backend."
   ]
  },
  {
   "cell_type": "code",
   "execution_count": null,
   "metadata": {},
   "outputs": [],
   "source": [
    "# Create a two qubit quantum and classical register\n",
    "q = QuantumRegister(2, 'q') \n",
    "c = ClassicalRegister(2, 'c')\n",
    "\n",
    "# Initialise circuit\n",
    "circuit = QuantumCircuit(q, c)\n",
    "\n",
    "# Include gates here:\n",
    "circuit.x(q[0])\n",
    "circuit.x(q[1])\n",
    "circuit.cx(q[0], q[1])\n",
    "circuit.cx(q[1], q[0])\n",
    "circuit.cx(q[0], q[1])\n",
    "\n",
    "# Collapse state into classical register to make measurement\n",
    "circuit.measure(q[0], c[0])\n",
    "circuit.measure(q[1], c[1])\n",
    "\n",
    "# Draw circuit diagram\n",
    "circuit.draw(output=\"mpl\")"
   ]
  },
  {
   "cell_type": "code",
   "execution_count": null,
   "metadata": {},
   "outputs": [],
   "source": [
    "# Create a Quantum Program for execution \n",
    "job_hist = execute(circuit, backend_hist, shots=5000)\n",
    "\n",
    "# Obtain results\n",
    "result_hist = job_hist.result()"
   ]
  },
  {
   "cell_type": "code",
   "execution_count": null,
   "metadata": {},
   "outputs": [],
   "source": [
    "plot_histogram(result_hist.get_counts(circuit))"
   ]
  }
 ],
 "metadata": {
  "kernelspec": {
   "display_name": "Python 3",
   "language": "python",
   "name": "python3"
  },
  "language_info": {
   "codemirror_mode": {
    "name": "ipython",
    "version": 3
   },
   "file_extension": ".py",
   "mimetype": "text/x-python",
   "name": "python",
   "nbconvert_exporter": "python",
   "pygments_lexer": "ipython3",
   "version": "3.7.4"
  }
 },
 "nbformat": 4,
 "nbformat_minor": 2
}
