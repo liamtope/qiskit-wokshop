{
 "cells": [
  {
   "cell_type": "markdown",
   "metadata": {},
   "source": [
    "# Exercise 1"
   ]
  },
  {
   "cell_type": "code",
   "execution_count": null,
   "metadata": {},
   "outputs": [],
   "source": [
    "import numpy\n",
    "from IPython.display import Image\n",
    "from matplotlib import pyplot\n",
    "from qiskit import QuantumCircuit, ClassicalRegister, QuantumRegister\n",
    "from qiskit.tools.visualization import plot_bloch_multivector\n",
    "from qiskit.tools.visualization import plot_histogram\n",
    "from qiskit import execute\n",
    "from qiskit import BasicAer\n",
    "\n",
    "# Specify the simulator backend to be used for circuit simulation\n",
    "# We specify two different backends for generating two types of plots:\n",
    "\n",
    "# Histogram backend\n",
    "backend_hist = BasicAer.get_backend('qasm_simulator')\n",
    "\n",
    "# Bloch sphere backend\n",
    "backend_bloch = BasicAer.get_backend('statevector_simulator')\n",
    "\n",
    "# We include the Bloch sphere backend for visualisation purposes alongside its use for\n",
    "# finding the state vector of the circuit output"
   ]
  },
  {
   "cell_type": "markdown",
   "metadata": {},
   "source": [
    "*Run this cell to obtain latex ket command*\n",
    "$$\\newcommand{\\ket}[1]{\\lvert{#1}\\rangle}$$"
   ]
  },
  {
   "cell_type": "markdown",
   "metadata": {},
   "source": [
    "## H gate\n",
    "\n",
    "Consider the system depicted in the circuit diagram below:"
   ]
  },
  {
   "cell_type": "code",
   "execution_count": null,
   "metadata": {},
   "outputs": [],
   "source": [
    "Image(\"../images/HgateCircuit.png\")"
   ]
  },
  {
   "cell_type": "markdown",
   "metadata": {},
   "source": [
    "This circuit should perform the operation \n",
    "\n",
    "- $\\ket{0} \\rightarrow \\ket{+} \\equiv \\frac{1}{\\sqrt{2}}(\\ket{0} + \\ket{1})$\n",
    "\n",
    "Implement this circuit and produce a histogram of the results using the qasm simulator with 5000 shots. Now use the statevector simulator to obtain the output state vector for this system. Use your results to verify that you have obtained the correct superposition.\n",
    "\n",
    "Note that we have left in the names for the variables used in the plotting functions that have been given to you. If you alter these, please check for dependencies."
   ]
  },
  {
   "cell_type": "code",
   "execution_count": null,
   "metadata": {},
   "outputs": [],
   "source": [
    "# Create single qubit quantum and classical registers\n",
    "q = QuantumRegister(1, 'q') \n",
    "c = ClassicalRegister(1, 'c')\n",
    "\n",
    "# Initialise circuit\n",
    "circuit = QuantumCircuit(q, c)\n",
    "\n",
    "# Include gates here:\n",
    "circuit.h(q[0])\n",
    "\n",
    "# Collapse state into classical register to make measurement\n",
    "circuit.measure(q[0], c[0])\n",
    "\n",
    "# Draw circuit diagram\n",
    "circuit.draw(output=\"mpl\")"
   ]
  },
  {
   "cell_type": "code",
   "execution_count": null,
   "metadata": {},
   "outputs": [],
   "source": [
    "# Create a Quantum Program for execution \n",
    "job_hist = execute(circuit, backend_hist, shots=5000)\n",
    "job_bloch = execute(circuit, backend_bloch)\n",
    "\n",
    "# Obtain results\n",
    "result_hist = job_hist.result()\n",
    "result_bloch = job_bloch.result()"
   ]
  },
  {
   "cell_type": "code",
   "execution_count": null,
   "metadata": {},
   "outputs": [],
   "source": [
    "# Plot histogram of the results\n",
    "plot_histogram(result_hist.get_counts(circuit))"
   ]
  },
  {
   "cell_type": "code",
   "execution_count": null,
   "metadata": {},
   "outputs": [],
   "source": [
    "# Print the output state vector\n",
    "outputstate_final = result_bloch.get_statevector(circuit, decimals=3)\n",
    "print(outputstate_final)"
   ]
  },
  {
   "cell_type": "code",
   "execution_count": null,
   "metadata": {},
   "outputs": [],
   "source": [
    "# Plot output statevector on the Bloch sphere\n",
    "plot_bloch_multivector(outputstate_final)"
   ]
  },
  {
   "cell_type": "markdown",
   "metadata": {},
   "source": [
    "By looking at the Bloch sphere output above, along with the obtained state vector, make sure you understand the nature of a superposition state existing in both $\\ket{0}$ and $\\ket{1}$ states simultaneously."
   ]
  },
  {
   "cell_type": "markdown",
   "metadata": {},
   "source": [
    "## H-H gates\n",
    "\n",
    "The definition of a quantum gate requires that the operator corresponding to any allowed quantum gate must be unitary, i.e:\n",
    "\n",
    "$$\n",
    "    U^{\\dagger}U = I\n",
    "$$\n",
    "\n",
    "The H gate is represented by a hermitian matrix. A hermitian matrix, $U$, is one for which $U^\\dagger = U$. Thus we see that if we apply two H gates in sequence to some qubit, the combined result is merely a multiplication of the original state by the identity matrix, thus returning the original state.\n",
    "\n",
    "In this exercise you should build a circuit comprising of two H gates, obtain a histogram using the qasm simulator with 5000 shots and confirm the expected result described above."
   ]
  },
  {
   "cell_type": "code",
   "execution_count": null,
   "metadata": {},
   "outputs": [],
   "source": [
    "# Create single qubit quantum and classical registers\n",
    "q = QuantumRegister(1, 'q') \n",
    "c = ClassicalRegister(1, 'c')\n",
    "\n",
    "# Initialise circuit\n",
    "circuit = QuantumCircuit(q, c)\n",
    "\n",
    "# Include gates here:\n",
    "circuit.h(q[0])\n",
    "circuit.h(q[0])\n",
    "\n",
    "# Collapse state into classical register to make measurement\n",
    "circuit.measure(q[0], c[0])\n",
    "\n",
    "circuit.draw(output=\"mpl\")"
   ]
  },
  {
   "cell_type": "code",
   "execution_count": null,
   "metadata": {},
   "outputs": [],
   "source": [
    "# Create a Quantum Program for execution \n",
    "job_hist = execute(circuit, backend_hist, shots=5000)\n",
    "job_bloch = execute(circuit, backend_bloch)\n",
    "\n",
    "# Obtain results\n",
    "result_hist = job_hist.result()\n",
    "result_bloch = job_bloch.result()"
   ]
  },
  {
   "cell_type": "code",
   "execution_count": null,
   "metadata": {},
   "outputs": [],
   "source": [
    "# Plot histogram of the results\n",
    "plot_histogram(result_hist.get_counts(circuit))"
   ]
  },
  {
   "cell_type": "markdown",
   "metadata": {},
   "source": [
    "## X-H-X gates\n",
    "\n",
    "Consider the system depicted in the circuit diagram below:"
   ]
  },
  {
   "cell_type": "code",
   "execution_count": null,
   "metadata": {},
   "outputs": [],
   "source": [
    "Image(\"../images/XHXgateCircuit.png\")"
   ]
  },
  {
   "cell_type": "markdown",
   "metadata": {},
   "source": [
    "This circuit should perform the following process:\n",
    "    \n",
    "- $\\ket{0} \\rightarrow \\ket{1}$\n",
    "- $\\ket{1} \\rightarrow \\frac{1}{\\sqrt{2}}(\\ket{0}-\\ket{1}) \\equiv \\ket{-}$\n",
    "- $\\ket{-} \\rightarrow \\frac{1}{\\sqrt{2}}(\\ket{1}-\\ket{0})$\n",
    "\n",
    "Implement this circuit and produce a histogram of the results using the qasm simulator with 5000 shots. Now use the statevector simulator to obtain the output state vector for this system. Use your results to verify that you have obtained the correct superposition."
   ]
  },
  {
   "cell_type": "code",
   "execution_count": null,
   "metadata": {},
   "outputs": [],
   "source": [
    "# Create single qubit quantum and classical registers\n",
    "q = QuantumRegister(1, 'q') \n",
    "c = ClassicalRegister(1, 'c')\n",
    "\n",
    "# Initialise circuit\n",
    "circuit = QuantumCircuit(q, c)\n",
    "\n",
    "# Include gates here:\n",
    "circuit.x(q[0])\n",
    "circuit.h(q[0])\n",
    "circuit.x(q[0])\n",
    "\n",
    "# Collapse state into classical register to make measurement\n",
    "circuit.measure(q[0], c[0])\n",
    "\n",
    "circuit.draw(output=\"mpl\")"
   ]
  },
  {
   "cell_type": "code",
   "execution_count": null,
   "metadata": {},
   "outputs": [],
   "source": [
    "# Create a Quantum Program for execution \n",
    "job_hist = execute(circuit, backend_hist, shots=5000)\n",
    "job_bloch = execute(circuit, backend_bloch)\n",
    "\n",
    "# Obtain results\n",
    "result_hist = job_hist.result()\n",
    "result_bloch = job_bloch.result()"
   ]
  },
  {
   "cell_type": "code",
   "execution_count": null,
   "metadata": {},
   "outputs": [],
   "source": [
    "# Plot histogram of the results\n",
    "plot_histogram(result_hist.get_counts(circuit))"
   ]
  },
  {
   "cell_type": "code",
   "execution_count": null,
   "metadata": {},
   "outputs": [],
   "source": [
    "# Print the output state vector\n",
    "outputstate_final = result_bloch.get_statevector(circuit, decimals=3)\n",
    "print(outputstate_final)"
   ]
  },
  {
   "cell_type": "code",
   "execution_count": null,
   "metadata": {},
   "outputs": [],
   "source": [
    "# Plot output statevector on the Bloch sphere\n",
    "plot_bloch_multivector(outputstate_final)"
   ]
  }
 ],
 "metadata": {
  "kernelspec": {
   "display_name": "Python 3",
   "language": "python",
   "name": "python3"
  },
  "language_info": {
   "codemirror_mode": {
    "name": "ipython",
    "version": 3
   },
   "file_extension": ".py",
   "mimetype": "text/x-python",
   "name": "python",
   "nbconvert_exporter": "python",
   "pygments_lexer": "ipython3",
   "version": "3.7.4"
  }
 },
 "nbformat": 4,
 "nbformat_minor": 2
}
