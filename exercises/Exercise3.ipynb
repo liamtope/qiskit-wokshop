{
 "cells": [
  {
   "cell_type": "markdown",
   "metadata": {},
   "source": [
    "# Exercise 3"
   ]
  },
  {
   "cell_type": "code",
   "execution_count": null,
   "metadata": {},
   "outputs": [],
   "source": [
    "import numpy\n",
    "from IPython.display import Image\n",
    "from matplotlib import pyplot\n",
    "from qiskit import QuantumCircuit, ClassicalRegister, QuantumRegister\n",
    "from qiskit.tools.visualization import plot_bloch_multivector\n",
    "from qiskit.tools.visualization import plot_histogram\n",
    "from qiskit import execute\n",
    "from qiskit import BasicAer\n",
    "\n",
    "# Specify the statevector simulator backend to be used for circuit simulation\n",
    "# We specify two different backends for generating two types of plots:\n",
    "\n",
    "# Histogram\n",
    "backend_hist = BasicAer.get_backend('qasm_simulator')\n",
    "\n",
    "# Bloch spheres\n",
    "backend_bloch = BasicAer.get_backend('statevector_simulator')\n",
    "\n",
    "# We include the Bloch sphere backend for visualisation purposes alongside its use for\n",
    "# finding the state vector of the circuit output"
   ]
  },
  {
   "cell_type": "markdown",
   "metadata": {},
   "source": [
    "*Run this cell to obtain latex ket command*\n",
    "$$\\newcommand{\\ket}[1]{\\lvert{#1}\\rangle}$$"
   ]
  },
  {
   "cell_type": "markdown",
   "metadata": {},
   "source": [
    "## Quantum Teleportation\n",
    "\n",
    "An interesting use for quantum computing and information is for its applications to cryptography. The phenomena of quantum teleportation provides a method by which we can transfer information losslessly between two parties whilst ensuring that no useful data can be intercepted by an eavesdropper.\n",
    "\n",
    "Implementing this in a quantum circuit is achieved through imposing a special state of entanglement between three qubits that allows for the state of one qubit to be transferred to another without it collapsing. The nature of this superposition causes a random rotation of the transferred state into one of four possible outputs with equal probability. This rotation is mirrored in the two qubits belonging to the sender, and so measuring the final state of these two qubits in the computational basis tells us what rotations must be made to the received qubit so as to return to the desired state. \n",
    "\n",
    "It is important to note that this limits the speed at which useful communication between sender and receiver can occur; since whilst the state itself may be instantaneously transferred, classical information must still be sent about the measurements of the senders qubits in order for the receiver to obtain the correct state. It is, however, also the reason why quantum communication is so secure; an eavesdropper can only ever intercept information about the required corrections, whereas the coefficients that characterize the information within the system have been instantaneously teleported without the necessity of sending the information across space, thus bypassing any potential eavesdropping.\n",
    "\n",
    "Note that we will collapse the final state of our \"teleported\" qubit for measurement purposes, but in principle the state could be preserved and used as the input for another quantum process once the relevant corrections have been made so as to return to the desired state. \n",
    "\n",
    "We have provided the code for these corrections and the mathematical blueprint for construction of the quantum teleportation system has been provided to you in the handout accompanying this task aswell as in pdf format (Teleportation.pdf).\n",
    "\n",
    "In this exercise you must build a circuit to perform this quantum teleportation process, sending the following state between two qubits: \n",
    "\n",
    "$$\n",
    "    \\ket{\\psi} = \\frac{\\sqrt{3}}{2}\\ket{0} + \\frac{1}{2}\\ket{1}\n",
    "$$\n",
    "\n",
    "The measurements are to be plotted on a histogram and you should use the maths in the handout to justify why your results match expectation."
   ]
  },
  {
   "cell_type": "code",
   "execution_count": null,
   "metadata": {},
   "outputs": [],
   "source": [
    "# Create a three qubit register and three classical registers to hold qubit measurements\n",
    "q = QuantumRegister(3, 'q') \n",
    "c0 = ClassicalRegister(1, 'c0')\n",
    "c1 = ClassicalRegister(1, 'c1')\n",
    "c2 = ClassicalRegister(1, 'c2')\n",
    "\n",
    "# Note: the sender has the qubit to teleport (qubit 0) and one an entangled qubit (qubit 1)\n",
    "# The receiver has the other entangled qubit (qubit 2)\n",
    "\n",
    "# Initialise circuit\n",
    "circuit = QuantumCircuit(q, c0,c1,c2)\n",
    "\n",
    "# Generate state to teleport\n",
    "circuit.ry(numpy.pi/3, q[0])\n",
    "\n",
    "# The gate 'ry' is a rotation operator around the y axis of the bloch sphere (not Hilbert space) \n",
    "\n",
    "# Entangle qubit 1 and 2 in the beta_00 Bell state\n",
    "circuit.h(q[1])\n",
    "circuit.cx(q[1], q[2])\n",
    "\n",
    "# Place barrier to control sequence of operations\n",
    "circuit.barrier(q)\n",
    "\n",
    "# Entangle the senders qubits\n",
    "circuit.cx(q[0], q[1])\n",
    "\n",
    "# Measure qubit 1 in the computational basis\n",
    "circuit.measure(q[1], c1[0])\n",
    "\n",
    "# Measure qubit 0 in the +/- basis\n",
    "circuit.h(q[0])\n",
    "circuit.measure(q[0], c0[0])\n",
    "\n",
    "# Place barrier to control sequence of operations\n",
    "circuit.barrier(q)\n",
    "\n",
    "# Apply relevant correction based on measurement of senders qubits\n",
    "circuit.z(q[2]).c_if(c0, 1)\n",
    "circuit.x(q[2]).c_if(c1, 1)\n",
    "\n",
    "# Measure the state of the teleported qubit to check results    \n",
    "circuit.measure(q[2], c2[0])\n",
    "\n",
    "# Draw the circuit diagram\n",
    "circuit.draw(output=\"mpl\")"
   ]
  },
  {
   "cell_type": "code",
   "execution_count": null,
   "metadata": {},
   "outputs": [],
   "source": [
    "# Create a Quantum Program for execution \n",
    "job_hist = execute(circuit, backend_hist, shots=5000)\n",
    "job_bloch = execute(circuit, backend_bloch)\n",
    "\n",
    "# Obtain results\n",
    "result_hist = job_hist.result()\n",
    "result_bloch = job_bloch.result()"
   ]
  },
  {
   "cell_type": "code",
   "execution_count": null,
   "metadata": {},
   "outputs": [],
   "source": [
    "# Plot a histogram of the obtained measurements\n",
    "plot_histogram(result_hist.get_counts(circuit))"
   ]
  }
 ],
 "metadata": {
  "kernelspec": {
   "display_name": "Python 3",
   "language": "python",
   "name": "python3"
  },
  "language_info": {
   "codemirror_mode": {
    "name": "ipython",
    "version": 3
   },
   "file_extension": ".py",
   "mimetype": "text/x-python",
   "name": "python",
   "nbconvert_exporter": "python",
   "pygments_lexer": "ipython3",
   "version": "3.7.4"
  }
 },
 "nbformat": 4,
 "nbformat_minor": 2
}
