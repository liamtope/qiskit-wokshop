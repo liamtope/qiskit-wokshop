{
 "cells": [
  {
   "cell_type": "code",
   "execution_count": 1,
   "metadata": {
    "slideshow": {
     "slide_type": "skip"
    }
   },
   "outputs": [
    {
     "data": {
      "application/javascript": [
       "IPython.notebook.config.update({\n",
       "  \"load_extensions\": {\"calico-spell-check\":true,\n",
       "                      \"calico-document-tools\":true,\n",
       "                      \"calico-cell-tools\":true\n",
       "                     }\n",
       "})\n"
      ],
      "text/plain": [
       "<IPython.core.display.Javascript object>"
      ]
     },
     "metadata": {},
     "output_type": "display_data"
    }
   ],
   "source": [
    "%%javascript\n",
    "IPython.notebook.config.update({\n",
    "  \"load_extensions\": {\"calico-spell-check\":true,\n",
    "                      \"calico-document-tools\":true,\n",
    "                      \"calico-cell-tools\":true\n",
    "                     }\n",
    "})"
   ]
  },
  {
   "cell_type": "code",
   "execution_count": 2,
   "metadata": {
    "slideshow": {
     "slide_type": "skip"
    }
   },
   "outputs": [
    {
     "data": {
      "text/html": [
       "<style>\n",
       "div.text_cell_render {\n",
       "    font-size: 19pt;\n",
       "}\n",
       "</style>\n"
      ],
      "text/plain": [
       "<IPython.core.display.HTML object>"
      ]
     },
     "metadata": {},
     "output_type": "display_data"
    }
   ],
   "source": [
    "%%html\n",
    "<style>\n",
    "div.text_cell_render {\n",
    "    font-size: 19pt;\n",
    "}\n",
    "</style>"
   ]
  },
  {
   "cell_type": "markdown",
   "metadata": {
    "slideshow": {
     "slide_type": "skip"
    }
   },
   "source": [
    "$$\\newcommand{\\ket}[1]{\\lvert{#1}\\rangle}$$"
   ]
  },
  {
   "cell_type": "code",
   "execution_count": 4,
   "metadata": {
    "slideshow": {
     "slide_type": "skip"
    }
   },
   "outputs": [],
   "source": [
    "import numpy\n",
    "from matplotlib import pyplot"
   ]
  },
  {
   "cell_type": "markdown",
   "metadata": {
    "slideshow": {
     "slide_type": "slide"
    }
   },
   "source": [
    "<center>\n",
    "    <h1> Quantum Computing in the Cloud </h1>\n",
    "    <h3> <em> An Introduction to Qiskit and IBM Q </em></h3>\n",
    "    <h4> Adam Murphy, Iain Smith, Liam Tope </h4>\n",
    "</center>"
   ]
  },
  {
   "cell_type": "markdown",
   "metadata": {
    "slideshow": {
     "slide_type": "slide"
    }
   },
   "source": [
    "## Overview\n",
    "\n",
    "<br>\n",
    "    \n",
    "    1. Advantages of Quantum Computations\n",
    "    \n",
    "    2. Writing Quantum Programs\n",
    "    \n",
    "    3. Qiskit and IBM Q\n",
    "    \n",
    "    4. Quantum Gates and Quantum Phenomena\n",
    "    \n",
    "    5. Teleportation of Information\n"
   ]
  },
  {
   "cell_type": "markdown",
   "metadata": {
    "slideshow": {
     "slide_type": "slide"
    }
   },
   "source": [
    "### What is Quantum Computing?\n",
    "\n",
    "- Classical computers store information in bits with binary values 0 or 1.\n",
    "\n",
    "- Quantum computers store information in quantum-bits (*qubits*), which are represented by \n",
    "    a wavefunction $\\ket{\\psi}~.$\n",
    "\n",
    "- The wavefunction is given in the form of basis states such as $\\ket{0}$ for the energetic ground state\n",
    "    or $\\ket{1}$ for the excited states\n",
    "    \n",
    "- Physical examples of bits and qubits include\n",
    "<br>\n",
    "<table style=\"width:50%; cellpadding:2; frame:border;\">\n",
    "    <tr>\n",
    "        <th> <center><font size=\"+2\">Bits</font></center> </th>\n",
    "        <th> <center><font size=\"+2\">Qubits</font></center> </th>\n",
    "    </tr>\n",
    "    <tr>\n",
    "        <td> <center><font size=\"+1\">A large and small current/voltage</font></center> </td> \n",
    "        <td> <center><font size=\"+1\">Spin state of an electron</font></center> </td>\n",
    "    </tr>\n",
    "    <tr>\n",
    "        <td> <center><font size=\"+1\">Magnetic-core alignment</font></center> </td>\n",
    "        <td> <center><font size=\"+1\">Polarisations of light</font></center> </td>\n",
    "    </tr>\n",
    "    <tr>\n",
    "        <td> <center><font size=\"+1\">Distinct levels of light intensity</font></center> </td>\n",
    "        <td> <center><font size=\"+1\">Energy levels of an atom</font></center> </td>\n",
    "</table>\n",
    "<br>\n",
    "- Analogous with logic gates in classical computers, we can construct\n",
    "  <font color='red'>quantum gates</font> which exploit the quantum behaviour of qubits"
   ]
  },
  {
   "cell_type": "markdown",
   "metadata": {
    "slideshow": {
     "slide_type": "subslide"
    }
   },
   "source": [
    "### Why Quantum Computing?\n",
    "\n",
    "- Our current ability to model quantum systems is inherently limited by our data storage techniques\n",
    "\n",
    "- This data has to be stored at every simulation step in order to calculate the next\n",
    "\n",
    "- We can bypass this by instead retaining all of the information within the state of the system itself\n",
    "\n",
    "- This linear scaling allows for us to consider simulations of much larger systems without loss of accuracy\n",
    "\n",
    "\n"
   ]
  },
  {
   "cell_type": "markdown",
   "metadata": {
    "slideshow": {
     "slide_type": "subslide"
    }
   },
   "source": [
    "### Writing Quantum Programs\n",
    "\n",
    "- Any classical program can be executed on a Quantum computer\n",
    "\n",
    "- But this presents no additional performance\n",
    "\n",
    "- Instead, programs need to be written which can manipulate the qubits quantum states and exploit quantum phenomena\n",
    "\n",
    "- We can do this, much like in classical computers, by constructing circuits of (Quantum) gates\n",
    "<br>\n",
    "<center>\n",
    "<font color='red'><u>Example:</u></font>\n",
    "<img src='https://i.stack.imgur.com/AYfEA.png' style='width:600px;height:250px;'>\n",
    "</center>"
   ]
  },
  {
   "cell_type": "markdown",
   "metadata": {
    "slideshow": {
     "slide_type": "slide"
    }
   },
   "source": [
    "### IBM Q\n",
    "<ul>\n",
    "<li>Despite quantum computing technology still being in relatively early stages of\n",
    "    development, some quantum computers have been developed </li>\n",
    "<li> IBM have built a 5-qubit quantum computer which anyone can run quantum\n",
    "    algorithms on via cloud access </li>\n",
    "</ul>\n",
    "<br>\n",
    "<center>\n",
    "<img src=\"../images/IBMQ.png\" style=\"width:900px;height:450px;\">\n",
    "</center>    "
   ]
  },
  {
   "cell_type": "markdown",
   "metadata": {
    "slideshow": {
     "slide_type": "subslide"
    }
   },
   "source": [
    "<img src='https://avatars2.githubusercontent.com/u/30696987?s=200&v=4' align='left' style='width:100px;height:100px'>\n",
    "<h1>&nbsp; Qiskit </h1>\n",
    "\n",
    "- Using the IBM Q interface for creating sophisticated quantum algorithms is not very convenient\n",
    "\n",
    "- Instead, we can use <font color='red'>qiskit</font> (<font color='red'>Q</font>uantum \n",
    "  <font color='red'>I</font>nformation <font color='red'>S</font>cience <font color='red'>kit</font>) - a python\n",
    "  interface for writing quantum algorithms, which can be submitted to IBM Q's quantum computer, \n",
    "  or run locally on simulator backends\n",
    "\n",
    "- Algorithms are written in the same way as they are constructed \n",
    "    via IBM Q, following a <font color='navy'>circuit model</font> for universal\n",
    "    quantum computation\n",
    " \n",
    "- This allows the programs to be run on any quantum hardware which follows this \n",
    "    model"
   ]
  },
  {
   "cell_type": "markdown",
   "metadata": {
    "slideshow": {
     "slide_type": "subslide"
    }
   },
   "source": [
    "We can use `qiskit` to construct our quantum circuit, and \n",
    "take measurements of the qubit following an operation by a gate."
   ]
  },
  {
   "cell_type": "code",
   "execution_count": 5,
   "metadata": {
    "slideshow": {
     "slide_type": "-"
    }
   },
   "outputs": [],
   "source": [
    "# Import qiskit\n",
    "import qiskit as qk\n",
    "\n",
    "# Create single bit quantum and classical register\n",
    "q = qk.QuantumRegister(1)\n",
    "c = qk.ClassicalRegister(1)\n",
    "# Build our circuit\n",
    "circuit = qk.QuantumCircuit(q, c)\n",
    "\n",
    "# Add an X-gate\n",
    "circuit.x(q[0])\n",
    "# Add a measurement\n",
    "circuit.measure(q[0], c[0])\n",
    "\n",
    "# Make a circuit diagram\n",
    "circuit.draw(output=\"mpl\").savefig('x-gate-circuit.svg')"
   ]
  },
  {
   "cell_type": "markdown",
   "metadata": {
    "slideshow": {
     "slide_type": "subslide"
    }
   },
   "source": [
    "#### The saved circuit diagram:\n",
    "\n",
    "<center>\n",
    "<img src='../images/x-gate-circuit.svg' alt=\"X-gate Circuit\" style=\"width:800px;height:400px;\">\n",
    "</center>"
   ]
  },
  {
   "cell_type": "markdown",
   "metadata": {
    "slideshow": {
     "slide_type": "subslide"
    }
   },
   "source": [
    "### Executing a Quantum Program\n",
    "\n",
    "Programs can be run on one of IBM's quantum computers by specifying a user API token and the \n",
    "quantum computer we wish to run the job on."
   ]
  },
  {
   "cell_type": "code",
   "execution_count": 6,
   "metadata": {
    "slideshow": {
     "slide_type": "-"
    }
   },
   "outputs": [
    {
     "name": "stdout",
     "output_type": "stream",
     "text": [
      "Status @ 0 s: INITIALIZING, est. queue position: None\n",
      "Status @ 12 s: QUEUED, est. queue position: 35\n",
      "Status @ 23 s: QUEUED, est. queue position: 35\n"
     ]
    },
    {
     "ename": "KeyboardInterrupt",
     "evalue": "",
     "output_type": "error",
     "traceback": [
      "\u001b[0;31m---------------------------------------------------------------------------\u001b[0m",
      "\u001b[0;31mKeyboardInterrupt\u001b[0m                         Traceback (most recent call last)",
      "\u001b[0;32m<ipython-input-6-a816e712af2c>\u001b[0m in \u001b[0;36m<module>\u001b[0;34m\u001b[0m\n\u001b[1;32m     16\u001b[0m     print(f'Status @ {time.time()-start_time:0.0f} s: {job_status.name},'\n\u001b[1;32m     17\u001b[0m           f' est. queue position: {job.queue_position()}')\n\u001b[0;32m---> 18\u001b[0;31m     \u001b[0mtime\u001b[0m\u001b[0;34m.\u001b[0m\u001b[0msleep\u001b[0m\u001b[0;34m(\u001b[0m\u001b[0;36m10\u001b[0m\u001b[0;34m)\u001b[0m\u001b[0;34m\u001b[0m\u001b[0;34m\u001b[0m\u001b[0m\n\u001b[0m\u001b[1;32m     19\u001b[0m     \u001b[0mjob_status\u001b[0m \u001b[0;34m=\u001b[0m \u001b[0mjob\u001b[0m\u001b[0;34m.\u001b[0m\u001b[0mstatus\u001b[0m\u001b[0;34m(\u001b[0m\u001b[0;34m)\u001b[0m\u001b[0;34m\u001b[0m\u001b[0;34m\u001b[0m\u001b[0m\n\u001b[1;32m     20\u001b[0m \u001b[0;34m\u001b[0m\u001b[0m\n",
      "\u001b[0;31mKeyboardInterrupt\u001b[0m: "
     ]
    }
   ],
   "source": [
    "import time\n",
    "from qiskit import IBMQ, compile\n",
    "from qiskit.providers.jobstatus import JOB_FINAL_STATES\n",
    "\n",
    "# Authenticate an account and add for use during this session. Replace string\n",
    "# argument with your private token.\n",
    "IBMQ.enable_account(\"6fea91cc6f5227071b9f0b0d32a3f2fe7873830c1abd5ac47a5bd245f01a3815abb9a346a64feff5d76c733c37113b79aa656f199fc054b121d884d521b070c8\")\n",
    "\n",
    "backend = IBMQ.backends('ibmqx2')[0]\n",
    "qobj = compile(circuit, backend, shots=2000)\n",
    "job = backend.run(qobj)\n",
    "\n",
    "start_time = time.time()\n",
    "job_status = job.status()\n",
    "while job_status not in JOB_FINAL_STATES:\n",
    "    print(f'Status @ {time.time()-start_time:0.0f} s: {job_status.name},'\n",
    "          f' est. queue position: {job.queue_position()}')\n",
    "    time.sleep(10)\n",
    "    job_status = job.status()\n",
    "\n",
    "result = job.result()\n",
    "print(result.get_counts())"
   ]
  },
  {
   "cell_type": "markdown",
   "metadata": {
    "slideshow": {
     "slide_type": "subslide"
    }
   },
   "source": [
    "#### Executing a Quantum Program\n",
    "\n",
    "Executing the simple algorithm given by our quantum circuit\n",
    "is given by the `execute` method of a `QuantumCircuit` object. The results of the executed program are also a method."
   ]
  },
  {
   "cell_type": "code",
   "execution_count": 7,
   "metadata": {
    "slideshow": {
     "slide_type": "-"
    }
   },
   "outputs": [],
   "source": [
    "from qiskit import BasicAer\n",
    "\n",
    "# Specify the simulator backend to be used\n",
    "backend = BasicAer.get_backend('qasm_simulator')\n",
    "\n",
    "# Create a Quantum Program for execution\n",
    "job = qk.execute(circuit, backend, shots=1000)\n",
    "result = job.result()"
   ]
  },
  {
   "cell_type": "markdown",
   "metadata": {
    "slideshow": {
     "slide_type": "subslide"
    }
   },
   "source": [
    "We can also plot a histogram of the output states measured \n",
    "in the Classical Register. We simply need to get the number\n",
    "of counts for each state. Rather than the frequency of\n",
    "counts, the histogram is given in terms of the probability\n",
    "of getting a certain result.\n",
    "\n",
    "In our case we have a 100% certainty of measuring the qubit\n",
    "in the $\\ket{1}$ state. "
   ]
  },
  {
   "cell_type": "code",
   "execution_count": 8,
   "metadata": {
    "slideshow": {
     "slide_type": "-"
    }
   },
   "outputs": [
    {
     "data": {
      "image/png": "[encoded data removed]",
      "text/plain": [
       "<Figure size 504x360 with 1 Axes>"
      ]
     },
     "execution_count": 8,
     "metadata": {},
     "output_type": "execute_result"
    }
   ],
   "source": [
    "from qiskit.tools.visualization import plot_histogram\n",
    "\n",
    "plot_histogram(result.get_counts(circuit))"
   ]
  },
  {
   "cell_type": "markdown",
   "metadata": {
    "slideshow": {
     "slide_type": "slide"
    }
   },
   "source": [
    "<center>\n",
    "    <h1> Exercise 1 </h1>\n",
    "</center>"
   ]
  },
  {
   "cell_type": "code",
   "execution_count": 9,
   "metadata": {
    "slideshow": {
     "slide_type": "notes"
    }
   },
   "outputs": [],
   "source": [
    "# Solutions:\n",
    "\n",
    "# Just a H-gate\n",
    "q = qk.QuantumRegister(1)\n",
    "c = qk.ClassicalRegister(1)\n",
    "Hcircuit = qk.QuantumCircuit(q, c)\n",
    "\n",
    "Hcircuit.h(q[0])\n",
    "Hcircuit.measure(q[0], c[0])\n",
    "Hcircuit.draw(output=\"mpl\").savefig('h-gate-circuit.svg')\n",
    "\n",
    "job = qk.execute(Hcircuit, backend, shots=1000)\n",
    "result = job.result()\n",
    "plot_histogram(result.get_counts(Hcircuit)).savefig('h-gate-histogram.svg')\n",
    "\n",
    "# H-gate then X-gate\n",
    "q = qk.QuantumRegister(1)\n",
    "c = qk.ClassicalRegister(1)\n",
    "HXcircuit = qk.QuantumCircuit(q, c)\n",
    "\n",
    "HXcircuit.h(q[0])\n",
    "HXcircuit.x(q[0])\n",
    "HXcircuit.measure(q[0], c[0])\n",
    "HXcircuit.draw(output=\"mpl\").savefig('h-x-gate-circuit.svg')\n",
    "\n",
    "job = qk.execute(HXcircuit, backend, shots=1000)\n",
    "result = job.result()\n",
    "plot_histogram(result.get_counts(HXcircuit)).savefig('h-x-gate-histogram.svg')\n",
    "\n",
    "# Two H-gates\n",
    "q = qk.QuantumRegister(1)\n",
    "c = qk.ClassicalRegister(1)\n",
    "HHcircuit = qk.QuantumCircuit(q, c)\n",
    "\n",
    "HHcircuit.h(q[0])\n",
    "HHcircuit.h(q[0])\n",
    "HHcircuit.measure(q[0], c[0])\n",
    "HHcircuit.draw(output=\"mpl\").savefig('h-h-gate-circuit.svg')\n",
    "\n",
    "job = qk.execute(HHcircuit, backend, shots=1000)\n",
    "result = job.result()\n",
    "plot_histogram(result.get_counts(HHcircuit)).savefig('h-h-gate-histogram.svg')"
   ]
  },
  {
   "cell_type": "code",
   "execution_count": 10,
   "metadata": {
    "slideshow": {
     "slide_type": "skip"
    }
   },
   "outputs": [
    {
     "data": {
      "text/html": [
       "<style>\n",
       "div.text_cell_render {\n",
       "    font-size: 19pt;\n",
       "}\n",
       "</style>\n"
      ],
      "text/plain": [
       "<IPython.core.display.HTML object>"
      ]
     },
     "metadata": {},
     "output_type": "display_data"
    }
   ],
   "source": [
    "%%html\n",
    "<style>\n",
    "div.text_cell_render {\n",
    "    font-size: 19pt;\n",
    "}\n",
    "</style>"
   ]
  },
  {
   "cell_type": "markdown",
   "metadata": {
    "slideshow": {
     "slide_type": "subslide"
    }
   },
   "source": [
    "### H-gate Circuit\n",
    "<br>\n",
    "<table>\n",
    "<tr>\n",
    "    <th> <center><font size=\"+1\">Circuit Diagram</font></center> </th>\n",
    "    <th> <center><font size=\"+1\">Histogram</font></center> </th>\n",
    "</tr> \n",
    "    <td> <img src='../images/h-gate-circuit.svg' > </td> \n",
    "    <td> <img src='../images/h-gate-histogram.svg'> </td>\n",
    "</table>"
   ]
  },
  {
   "cell_type": "markdown",
   "metadata": {
    "slideshow": {
     "slide_type": "subslide"
    }
   },
   "source": [
    "### H-H-Gate Circuit\n",
    "<br>\n",
    "<table>\n",
    "<tr>\n",
    "    <th> <center><font size=\"+1\">Circuit Diagram</font></center> </th>\n",
    "    <th> <center><font size=\"+1\">Histogram</font></center> </th>\n",
    "</tr> \n",
    "<tr>    \n",
    "    <td> <img src='../images/h-h-gate-circuit.svg'> </td> \n",
    "    <td> <img src='../images/h-h-gate-histogram.svg'> </td>\n",
    "</tr>\n",
    "</table>"
   ]
  },
  {
   "cell_type": "markdown",
   "metadata": {
    "slideshow": {
     "slide_type": "subslide"
    }
   },
   "source": [
    "### X-H-X-Gate Circuit\n",
    "<br>\n",
    "<table>\n",
    "<tr>\n",
    "    <th> <center><font size=\"+1\">Circuit Diagram</font></center> </th>\n",
    "    <th> <center><font size=\"+1\">Histogram</font></center> </th> \n",
    "</tr>\n",
    "<tr>\n",
    "    <td> <img src='../images/XHXgateCircuit.svg'> </td> \n",
    "    <td> <img src='../images/XHXhistogram.svg'> </td>\n",
    "</tr>\n",
    "</table>"
   ]
  },
  {
   "cell_type": "markdown",
   "metadata": {
    "slideshow": {
     "slide_type": "slide"
    }
   },
   "source": [
    "## Superposition\n",
    "\n",
    "Using the H-gate we have demonstrated one of the quantum\n",
    "properties of qubits: <font color='navy'>*Superposition*\n",
    "</font>.<br>\n",
    "This is a consequence of the linearity of the\n",
    "Schr&ouml;dinger equation.\n",
    "\n",
    "---\n",
    "<img src=\"../images/qubit-bit-diagram.svg\" style=\"width:500px;height:500px;\" alt=\"Qubit Diagram\" align='left'>\n",
    "\n",
    "\n",
    "\n",
    "\n",
    "Individual qubits can be represented by a vector of coefficients of their basis\n",
    "states\n",
    "\n",
    "$$\n",
    "    \\ket{\\psi}~= \\left[\\begin{array}{c} \\alpha \\\\ \\beta \\end{array}\\right]~,\n",
    "$$\n",
    "\n",
    "where the squared modulus of these coefficients gives the probability of the \n",
    "qubit being in its respective state, such that\n",
    "\n",
    "$$\n",
    "    |\\alpha|^2 + |\\beta|^2 = 1~.\n",
    "$$\n",
    "\n",
    "Similarly, quantum gates can be represented by <font color='red'>permutation\n",
    "matrices </font>. For example,\n",
    "the *X-gate* we saw before is\n",
    "\n",
    "$$\n",
    "    X = \\left[\\begin{array}{cc} 0 & 1 \\\\ 1 & 0 \\end{array}\\right]~.\n",
    "$$"
   ]
  },
  {
   "cell_type": "markdown",
   "metadata": {
    "slideshow": {
     "slide_type": "subslide"
    }
   },
   "source": [
    "### Superposition\n",
    "<center>\n",
    "<img src='https://www.motherjones.com/wp-content/uploads/2018/09/blog_schrodinger1.jpg?w=608' style='width:900px;height:450px;'>\n",
    "</center>"
   ]
  },
  {
   "cell_type": "code",
   "execution_count": 11,
   "metadata": {
    "slideshow": {
     "slide_type": "skip"
    }
   },
   "outputs": [],
   "source": [
    "from qiskit.tools.visualization import plot_bloch_vector\n",
    "\n",
    "plot_bloch_vector([0, 0, 1]).savefig('Zero-state_bloch.svg')\n",
    "hadamard = (1/numpy.sqrt(2))*numpy.array([[1,1], [1,-1]])\n",
    "state = numpy.array([1, 0])\n",
    "new_state = numpy.dot(hadamard, state)\n",
    "\n",
    "theta = 2.* numpy.arccos(new_state[0])\n",
    "phi = numpy.arccos((new_state[1]/numpy.sin(theta/2)))\n",
    "\n",
    "new_vec = [numpy.sin(theta)*numpy.cos(phi), numpy.sin(theta)*numpy.sin(phi), numpy.cos(theta)]\n",
    "\n",
    "plot_bloch_vector(new_vec).savefig('Superposed-state-bloch.svg')\n",
    "\n",
    "zrot = numpy.array([[-1, 0, 0], [0, -1, 0], [0, 0, 1]])\n",
    "zrot_vec = numpy.dot(zrot, new_vec)\n",
    "plot_bloch_vector(zrot_vec).savefig('z-rot.svg')\n",
    "\n",
    "yrot = numpy.array([[numpy.cos(numpy.pi/2), 0, numpy.sin(numpy.pi/2)], [0, 1, 0], \n",
    "                    [-numpy.sin(numpy.pi/2), 0, numpy.cos(numpy.pi/2)]])\n",
    "\n",
    "yrot_vec = numpy.dot(yrot, zrot_vec)\n",
    "plot_bloch_vector(yrot_vec).savefig('y-rot.svg')"
   ]
  },
  {
   "cell_type": "markdown",
   "metadata": {
    "slideshow": {
     "slide_type": "subslide"
    }
   },
   "source": [
    "### The Hadamard Gate\n",
    "\n",
    "The Hadamard gate (*H-gate*) has the form\n",
    "\n",
    "<center>\n",
    "    <br>\n",
    "<p style=\"width: 350px; border:3px; border-style:solid; border-color:#FF0000; padding:1em;\">\n",
    "$$\n",
    "H = \\frac{1}{\\sqrt{2}}\\left[\\begin{array}{cc} 1 & 1 \\\\ 1 & -1 \\end{array}\\right]\n",
    "$$\n",
    "</p>\n",
    "</center>\n",
    "\n",
    "and represents a state-vector rotation of $\\pi$ about the \n",
    "$\\frac{1}{\\sqrt{2}}(\\hat{x}+\\hat{z})$ axis on the Bloch Sphere. An analogous transformation is\n",
    "a $\\pi$ rotation about the $z$-axis, followed by a $\\pi/2$ rotation about the $y$-axis."
   ]
  },
  {
   "cell_type": "markdown",
   "metadata": {
    "slideshow": {
     "slide_type": "subslide"
    }
   },
   "source": [
    "### The Hadamard Gate\n",
    "\n",
    "- When acted upon a basis state, this creates a superposition:\n",
    "\n",
    "<center><font size=\"+1\">Initial State</font><center> | <center><font size=\"+1\">Superposed State</font></center>\n",
    "- | - \n",
    "<img src='../images/Zero-state_bloch.svg' style='width:350px;height:350px;'> | <img src='../images/Superposed-state-bloch.svg' style='width:350px;height:350px;'> "
   ]
  },
  {
   "cell_type": "markdown",
   "metadata": {
    "slideshow": {
     "slide_type": "subslide"
    }
   },
   "source": [
    "### The Hadamard Gate\n",
    "\n",
    "- When acted upon a superposition state, this creates a basis state:\n",
    "\n",
    "<table>\n",
    "    <tr>\n",
    "        <th> <center><font size=\"+1\">Superposed State</font><center> </th>\n",
    "        <th> </th>\n",
    "        <th> <center><font size=\"+1\">$\\pi$-rotation about $z$-axis</font></center> </th>\n",
    "        <th> </th>\n",
    "        <th> <center><font size=\"+1\">$\\frac{\\pi}{2}$-rotation about $y$-axis</font></center> </th>\n",
    "    </tr>\n",
    "    <tr>\n",
    "        <td> <img src='../images/Superposed-state-bloch.svg' style='width:350px;height:350px;'> </td>\n",
    "        <td> <center><font size=\"+2\">$\\Rightarrow$</font><center> </td>\n",
    "        <td> <img src='../images/z-rot.svg' style='width:350px;height:350px;'> </td>\n",
    "        <td> <center><font size=\"+2\">$\\Rightarrow$</font><center> </td>\n",
    "        <td> <img src='../images/y-rot.svg' style='width:350px;height:350px;'> </td>\n",
    "    </tr>\n",
    "</table>"
   ]
  },
  {
   "cell_type": "markdown",
   "metadata": {
    "slideshow": {
     "slide_type": "subslide"
    }
   },
   "source": [
    "### The Hadamard Gate\n",
    "\n",
    "- In the exercise, we saw that using two Hadamard gates in a row returned the state\n",
    "    back to its starting point. \n",
    "\n",
    "- We can also show this using Bloch sphere rotations or \n",
    "    the permutation matrix:\n",
    "<br><br>\n",
    "<center>\n",
    "<p style=\"width: 750px; border:3px; border-style:dotted; border-color:#FF0000; padding: 1em;\">\n",
    "$$\n",
    "    HH\\ket{\\psi} = \\frac{1}{\\sqrt{2}}\\left[\\begin{array}{cc} 1 & 1 \\\\ 1 & -1 \\end{array}\\right]\n",
    "                \\frac{1}{\\sqrt{2}}\\left[\\begin{array}{cc} 1 & 1 \\\\ 1 & -1 \\end{array}\\right]\n",
    "                \\ket{\\psi}\n",
    "$$\n",
    "<br>\n",
    "$$\n",
    "    = \\left[\\begin{array}{cc} 1 & 0 \\\\ 0 & 1 \\end{array}\\right]~\\ket{\\psi}\n",
    "$$\n",
    "<br>\n",
    "$$\n",
    "    = \\ket{\\psi}\n",
    "$$\n",
    "</p>\n",
    "</center>"
   ]
  },
  {
   "cell_type": "markdown",
   "metadata": {
    "slideshow": {
     "slide_type": "subslide"
    }
   },
   "source": [
    "### The Hadamard Gate\n",
    "\n",
    "- This condition, called unitarity, is one that must be satisfied by any operator representing a quantum gate, *i.e.* for a quantum gate $U$\n",
    "\n",
    "<center>\n",
    "<p style=\"width: 190px; border:3px; border-style:solid; border-color:#FF0000; padding:1em;\">\n",
    "$$\n",
    "    U^\\dagger U = I\n",
    "$$\n",
    "</p>\n",
    "</center>"
   ]
  },
  {
   "cell_type": "markdown",
   "metadata": {
    "slideshow": {
     "slide_type": "slide"
    }
   },
   "source": [
    "### Multiple-Qubit Gates\n",
    "\n",
    "- So far, we have only looked at gates which act on one qubit\n",
    "\n",
    "- If we consider a two-qubit system, we now have __four possible states__:\n",
    "\n",
    "$$\n",
    "    \\ket{\\psi}~=~\\alpha_{00}\\ket{00} +~\\alpha_{01}\\ket{01} +~\\alpha_{10}\\ket{10} +~\\alpha_{11}\\ket{11}~.\n",
    "$$\n",
    "\n",
    "- Accordingly, __the permutation matrix representing a two-qubit gate is a 4x4 matrix__\n",
    "\n",
    "- For $n$ qubits, the number of coefficients required to describe the system (and thus the order of the permutation matrices acting on $n$ qubits) scales as $2^n$\n",
    "\n",
    "- We can construct permutation matrices by using <font color='red'>truth tables</font>.\n",
    "\n",
    "- Consider the __CNOT__ (Controlled NOT) gate. The gate flips the second (target) qubit *iff* \n",
    "    the first (control) qubit is $\\ket{1}$."
   ]
  },
  {
   "cell_type": "markdown",
   "metadata": {
    "slideshow": {
     "slide_type": "subslide"
    }
   },
   "source": [
    "### The CNOT Gate\n",
    "\n",
    "If we say that\n",
    "\n",
    "$$\n",
    "    \\ket{\\psi'}~=~CNOT~\\cdot~\\ket{\\psi}~,\n",
    "$$\n",
    "\n",
    "then we can construct a truth table showing the expected result for input qubit wavefunctions $\\ket{\\psi}$ \n",
    "which are purely basis states, *i.e.*\n",
    "\n",
    "$$\n",
    "    \\alpha_{ij} \\in [0, 1]~.\n",
    "$$\n",
    "\n",
    "<table style=\"width:50%\">\n",
    "    <tr>\n",
    "        <th> <font size=\"+1\">$\\ket{\\psi}~\\Rightarrow\\\\\\ket{\\psi'}~\\Downarrow$ </font></th>\n",
    "        <th> <font size=\"+1\">$\\ket{00}$ </font></th>\n",
    "        <th> <font size=\"+1\">$\\ket{01}$ </font></th>\n",
    "        <th> <font size=\"+1\">$\\ket{10}$ </font></th>\n",
    "        <th> <font size=\"+1\">$\\ket{11}$ </font></th>\n",
    "    </tr>\n",
    "    <tr>\n",
    "        <td> <font size=\"+1\">$\\ket{00}$ </font> </td>\n",
    "        <td> <font size=\"+1\"> &check; </font> </td>\n",
    "        <td> <font size=\"+1\"> - </font> </td>\n",
    "        <td> <font size=\"+1\"> - </font> </td>\n",
    "        <td> <font size=\"+1\"> - </font> </td>\n",
    "    </tr>\n",
    "    <tr>\n",
    "        <td> <font size=\"+1\"> $\\ket{01}$ </font> </td>\n",
    "        <td> <font size=\"+1\"> - </font> </td>\n",
    "        <td> <font size=\"+1\"> &check; </font> </td>\n",
    "        <td> <font size=\"+1\"> - </font> </td>\n",
    "        <td> <font size=\"+1\"> - </font> </td>\n",
    "    </tr>\n",
    "    <tr>\n",
    "        <td> <font size=\"+1\"> $\\ket{10}$ </font> </td>\n",
    "        <td> <font size=\"+1\"> - </font> </td>\n",
    "        <td> <font size=\"+1\"> - </font> </td>\n",
    "        <td> <font size=\"+1\"> - </font> </td>\n",
    "        <td> <font size=\"+1\"> &check; </font> </td>\n",
    "    </tr>\n",
    "    <tr>\n",
    "        <td> <font size=\"+1\"> $\\ket{11}$ </font> </td>\n",
    "        <td> <font size=\"+1\"> - </font> </td>\n",
    "        <td> <font size=\"+1\"> - </font> </td>\n",
    "        <td> <font size=\"+1\"> &check; </font> </td>\n",
    "        <td> <font size=\"+1\"> - </font> </td>\n",
    "    </tr>\n",
    "</table>"
   ]
  },
  {
   "cell_type": "markdown",
   "metadata": {
    "slideshow": {
     "slide_type": "subslide"
    }
   },
   "source": [
    "### The CNOT Gate\n",
    "\n",
    "From the truth table\n",
    "<br>\n",
    "<table style=\"width:50%\">\n",
    "    <tr>\n",
    "        <th> <font size=\"+1\">$\\ket{\\psi}~\\Rightarrow\\\\\\ket{\\psi'}~\\Downarrow$ </font></th>\n",
    "        <th> <font size=\"+1\">$\\ket{00}$ </font></th>\n",
    "        <th> <font size=\"+1\">$\\ket{01}$ </font></th>\n",
    "        <th> <font size=\"+1\">$\\ket{10}$ </font></th>\n",
    "        <th> <font size=\"+1\">$\\ket{11}$ </font></th>\n",
    "    </tr>\n",
    "    <tr>\n",
    "        <td> <font size=\"+1\">$\\ket{00}$ </font> </td>\n",
    "        <td> <font size=\"+1\"> &check; </font> </td>\n",
    "        <td> <font size=\"+1\"> - </font> </td>\n",
    "        <td> <font size=\"+1\"> - </font> </td>\n",
    "        <td> <font size=\"+1\"> - </font> </td>\n",
    "    </tr>\n",
    "    <tr>\n",
    "        <td> <font size=\"+1\"> $\\ket{01}$ </font> </td>\n",
    "        <td> <font size=\"+1\"> - </font> </td>\n",
    "        <td> <font size=\"+1\"> &check; </font> </td>\n",
    "        <td> <font size=\"+1\"> - </font> </td>\n",
    "        <td> <font size=\"+1\"> - </font> </td>\n",
    "    </tr>\n",
    "    <tr>\n",
    "        <td> <font size=\"+1\"> $\\ket{10}$ </font> </td>\n",
    "        <td> <font size=\"+1\"> - </font> </td>\n",
    "        <td> <font size=\"+1\"> - </font> </td>\n",
    "        <td> <font size=\"+1\"> - </font> </td>\n",
    "        <td> <font size=\"+1\"> &check; </font> </td>\n",
    "    </tr>\n",
    "    <tr>\n",
    "        <td> <font size=\"+1\"> $\\ket{11}$ </font> </td>\n",
    "        <td> <font size=\"+1\"> - </font> </td>\n",
    "        <td> <font size=\"+1\"> - </font> </td>\n",
    "        <td> <font size=\"+1\"> &check; </font> </td>\n",
    "        <td> <font size=\"+1\"> - </font> </td>\n",
    "    </tr>\n",
    "</table>\n",
    "<br><br>\n",
    "we can write the permutation matrix <font size=\"+2\">\n",
    "<br><br>\n",
    "$$\n",
    "    CNOT = \\left[\\begin{array}{cccc} 1 & 0 & 0 & 0 \\\\\n",
    "                                     0 & 1 & 0 & 0 \\\\\n",
    "                                     0 & 0 & 0 & 1 \\\\\n",
    "                                     0 & 0 & 1 & 0 \\end{array}\\right]\n",
    "$$"
   ]
  },
  {
   "cell_type": "markdown",
   "metadata": {
    "slideshow": {
     "slide_type": "subslide"
    }
   },
   "source": [
    "### The CNOT Gate\n",
    "\n",
    "For example, if we have a two-qubit state\n",
    "\n",
    "$$\n",
    "    \\ket{\\psi} = \\alpha_{00}\\ket{00} + \\alpha_{10}\\ket{10}\n",
    "               = \\left[\\begin{array}{c} \\alpha_{00} \\\\ 0 \\\\ \\alpha_{10} \\\\ 0 \\end{array}\\right]\n",
    "$$\n",
    "\n",
    "then \n",
    "\n",
    "$$\n",
    " \\ket{\\psi'} = \\left[\\begin{array}{cccc} 1 & 0 & 0 & 0 \\\\\n",
    "                                     0 & 1 & 0 & 0 \\\\\n",
    "                                     0 & 0 & 0 & 1 \\\\\n",
    "                                     0 & 0 & 1 & 0 \\end{array}\\right]~\\cdot~\n",
    "                                     \\left[\\begin{array}{c} \\alpha_{00}\\\\0\\\\\\alpha_{10}\\\\0\\end{array}\\right]~\n",
    "             =~\\left[\\begin{array}{c} \\alpha_{00}\\\\0\\\\0\\\\\\alpha_{10}\\end{array}\\right] \\\\ \\\\\n",
    "$$\n",
    "<br>\n",
    "<br>\n",
    "<center>\n",
    "<p style=\"width: 450px; border:3px; border-style:dotted; border-color:#FF0000; padding: 1em;\">\n",
    "$$\n",
    " \\Rightarrow \\ket{\\psi'} = \\alpha_{00}\\ket{00} + \\alpha_{10}\\ket{11}\n",
    "$$\n",
    "</p>\n",
    "</center>"
   ]
  },
  {
   "cell_type": "markdown",
   "metadata": {
    "slideshow": {
     "slide_type": "slide"
    }
   },
   "source": [
    "<center>\n",
    "<h1> Exercise 2 </h1>\n",
    "</center>"
   ]
  },
  {
   "cell_type": "markdown",
   "metadata": {
    "slideshow": {
     "slide_type": "slide"
    }
   },
   "source": [
    "### Quantum Entanglement\n",
    "\n",
    "- The circuits we used in the previous example can be seen to produce correlated outputs\n",
    "\n",
    "- When we put one qubit into a superposition, then use it as a control for the\n",
    "    second qubit in a CNOT gate, the result of a measurement of this qubit\n",
    "    depends on which basis state the superposition collapses to at\n",
    "    measurement.\n",
    "\n",
    "- In short, __the output of a measurement of one qubit affects the output of the measurement of the other__\n",
    "\n",
    "Consider the Bell states:<br>\n",
    "<table style=\"width:80%\" rules=\"none\">\n",
    "    <tr>\n",
    "        <th><font size=\"+1\">Bell State</font></th>\n",
    "        <th><font size=\"+1\"> If measurement<br>of qubit 1 yields</font></th>\n",
    "        <th><font size=\"+1\"> Measurement of<br> qubit 2 yields</font></th>\n",
    "    </tr>\n",
    "    <tr>\n",
    "        <td rowspan=\"2\"><font size=\"+1\">$\\ket{\\beta_{00}} = \\frac{1}{\\sqrt{2}}(\\ket{00} + \\ket{11})$</font></td>\n",
    "        <td><font size=\"+1\">0</font></td>\n",
    "        <td><font size=\"+1\">0</font></td>\n",
    "    </tr>\n",
    "    <tr>\n",
    "        <td><font size=\"+1\">1</font></td>\n",
    "        <td><font size=\"+1\">1</font></td>\n",
    "    </tr>\n",
    "    <tr>\n",
    "        <td rowspan=\"2\"><font size=\"+1\">$\\ket{\\beta_{01}} = \\frac{1}{\\sqrt{2}}(\\ket{01} + \\ket{10})$</font></td>\n",
    "        <td><font size=\"+1\">0</font></td>\n",
    "        <td><font size=\"+1\">1</font></td>\n",
    "    </tr>\n",
    "    <tr>\n",
    "        <td><font size=\"+1\">1</font></td>\n",
    "        <td><font size=\"+1\">0</font></td>\n",
    "    </tr>\n",
    "    <tr>\n",
    "        <td rowspan=\"2\"><font size=\"+1\">$\\ket{\\beta_{10}} = \\frac{1}{\\sqrt{2}}(\\ket{00} - \\ket{11})$</font></td>\n",
    "        <td><font size=\"+1\">0</font></td>\n",
    "        <td><font size=\"+1\">0</font></td>\n",
    "    </tr>\n",
    "    <tr>\n",
    "        <td><font size=\"+1\">1</font></td>\n",
    "        <td><font size=\"+1\">1</font></td>\n",
    "    </tr>\n",
    "    <tr>\n",
    "        <td rowspan=\"2\"><font size=\"+1\">$\\ket{\\beta_{11}} = \\frac{1}{\\sqrt{2}}(\\ket{01} - \\ket{10})$</font></td>\n",
    "        <td><font size=\"+1\">0</font></td>\n",
    "        <td><font size=\"+1\">1</font></td>\n",
    "    </tr>\n",
    "    <tr>\n",
    "        <td><font size=\"+1\">1</font></td>\n",
    "        <td><font size=\"+1\">0</font></td>\n",
    "    </tr>\n",
    "</table>"
   ]
  },
  {
   "cell_type": "markdown",
   "metadata": {
    "slideshow": {
     "slide_type": "slide"
    }
   },
   "source": [
    "### Alice and Bob: A Quantum Love Story\n",
    "\n",
    "Consider the following thought experiment:\n",
    "\n",
    "<img src=\"../images/alice_and_bob.jpg\" style=\"width:200px;height:300px;\" alt=\"Alice and Bob\" align='left' hspace='100px'>  \n",
    "\n",
    "---\n",
    "&emsp; - Alice and Bob met a while ago and together made an entangled pair \n",
    "of qubits    \n",
    "\n",
    "&emsp; - They have since parted ways, taking one entangled qubit each\n",
    "\n",
    "&emsp; - Alice now wishes to send another qubit to Bob\n",
    "\n",
    "&emsp; - She does not know the state of her qubit\n",
    "$\\ket{\\psi}$ and can only send \n",
    " classical<br> &emsp; information to Bob\n",
    "            \n",
    "&emsp; - How can she send the information in her qubit to Bob?\n",
    "\n",
    "&emsp; - Have a look at exercise sheet 3!"
   ]
  },
  {
   "cell_type": "markdown",
   "metadata": {
    "slideshow": {
     "slide_type": "slide"
    }
   },
   "source": [
    "### Summary\n",
    "\n",
    "- Quantum gates can be used to manipulate the state of a system of qubits\n",
    "\n",
    "- This can allow for computations not possible on classical machines\n",
    "\n",
    "- Qiskit allows for simulations of/on quantum computers \n",
    "\n",
    "- This hopefully gives us an insight into the processes we can use to write\n",
    "    more sophisticated algorithms\n",
    "    \n",
    "<u>Example: Circuit to solve the Schr&ouml;dinger equation</u>\n",
    "<br><br>\n",
    "<center>\n",
    "    <img src='../images/SE.png' style='width:900px;height:225px;'>\n",
    "    <br>\n",
    "    <font size='-0'><i>Coles, Patrick J., et al. \"Quantum algorithm implementations for beginners.\" arXiv preprint arXiv:1804.03719 (2018).</i></font>\n",
    "</center>"
   ]
  }
 ],
 "metadata": {
  "celltoolbar": "Slideshow",
  "kernelspec": {
   "display_name": "Python 3",
   "language": "python",
   "name": "python3"
  },
  "language_info": {
   "codemirror_mode": {
    "name": "ipython",
    "version": 3
   },
   "file_extension": ".py",
   "mimetype": "text/x-python",
   "name": "python",
   "nbconvert_exporter": "python",
   "pygments_lexer": "ipython3",
   "version": "3.7.4"
  }
 },
 "nbformat": 4,
 "nbformat_minor": 1
}
